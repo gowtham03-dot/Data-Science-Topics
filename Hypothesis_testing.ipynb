{
  "nbformat": 4,
  "nbformat_minor": 0,
  "metadata": {
    "colab": {
      "provenance": []
    },
    "kernelspec": {
      "name": "python3",
      "display_name": "Python 3"
    },
    "language_info": {
      "name": "python"
    }
  },
  "cells": [
    {
      "cell_type": "markdown",
      "source": [
        "**Chi-Square Test**"
      ],
      "metadata": {
        "id": "obRCka5OeTTd"
      }
    },
    {
      "cell_type": "code",
      "execution_count": 1,
      "metadata": {
        "id": "qkBLerMWeJrG"
      },
      "outputs": [],
      "source": [
        "import numpy as np\n",
        "import scipy.stats as stats"
      ]
    },
    {
      "cell_type": "code",
      "source": [
        "# Observed frequencies from the contingency table\n",
        "observed = np.array([[50, 70],\n",
        "                     [80, 100],\n",
        "                     [60, 90],\n",
        "                     [30, 50],\n",
        "                     [20, 50]])"
      ],
      "metadata": {
        "id": "UJdXwlrMedAF"
      },
      "execution_count": 2,
      "outputs": []
    },
    {
      "cell_type": "code",
      "source": [
        "\n",
        "# Perform the Chi-Square test\n",
        "chi2_stat, p_val, dof, expected = stats.chi2_contingency(observed)\n",
        "# Define significance level\n",
        "alpha = 0.05"
      ],
      "metadata": {
        "id": "tSQfaLIXehBD"
      },
      "execution_count": 4,
      "outputs": []
    },
    {
      "cell_type": "code",
      "source": [
        "# Determine the critical value from the Chi-Square distribution table\n",
        "critical_value = stats.chi2.ppf(1 - alpha, dof)"
      ],
      "metadata": {
        "id": "h9XfPANLel8N"
      },
      "execution_count": 5,
      "outputs": []
    },
    {
      "cell_type": "code",
      "source": [
        "# Output results\n",
        "print(f\"Chi-Square Statistic: {chi2_stat}\")\n",
        "print(f\"P-value: {p_val}\")\n",
        "print(f\"Degrees of Freedom: {dof}\")\n",
        "print(f\"Critical Value: {critical_value}\")"
      ],
      "metadata": {
        "colab": {
          "base_uri": "https://localhost:8080/"
        },
        "id": "ByDOLzCQevX6",
        "outputId": "75b8587d-5c3e-4caf-e3aa-7142c25b0a16"
      },
      "execution_count": 6,
      "outputs": [
        {
          "output_type": "stream",
          "name": "stdout",
          "text": [
            "Chi-Square Statistic: 5.638227513227513\n",
            "P-value: 0.22784371130697179\n",
            "Degrees of Freedom: 4\n",
            "Critical Value: 9.487729036781154\n"
          ]
        }
      ]
    },
    {
      "cell_type": "code",
      "source": [
        "# Decision\n",
        "if chi2_stat > critical_value:\n",
        "    print(\"Reject the null hypothesis: There is a significant association between the type of smart home device and customer satisfaction level.\")\n",
        "else:\n",
        "    print(\"Fail to reject the null hypothesis: No significant association between the type of smart home device and customer satisfaction level.\")"
      ],
      "metadata": {
        "colab": {
          "base_uri": "https://localhost:8080/"
        },
        "id": "9-57BUJie0VC",
        "outputId": "262e90d3-a37c-4d68-f361-e46e0c435af8"
      },
      "execution_count": 7,
      "outputs": [
        {
          "output_type": "stream",
          "name": "stdout",
          "text": [
            "Fail to reject the null hypothesis: No significant association between the type of smart home device and customer satisfaction level.\n"
          ]
        }
      ]
    },
    {
      "cell_type": "markdown",
      "source": [
        "**Hypothesis Testing**"
      ],
      "metadata": {
        "id": "MwGU8zvEe9FH"
      }
    },
    {
      "cell_type": "code",
      "source": [
        "import numpy as np\n",
        "import scipy.stats as stats\n"
      ],
      "metadata": {
        "id": "HalCQHZ7e8HE"
      },
      "execution_count": 8,
      "outputs": []
    },
    {
      "cell_type": "code",
      "source": [
        "# Given data\n",
        "sample_mean = 3050\n",
        "theoretical_mean = 1000 + 5 * 600  # Based on W = $1000 + $5X for X = 600 units\n",
        "sigma = 5 * 25\n",
        "n = 25\n",
        "alpha = 0.05"
      ],
      "metadata": {
        "id": "nCe5REs6fDEQ"
      },
      "execution_count": 9,
      "outputs": []
    },
    {
      "cell_type": "code",
      "source": [
        "# Calculate the test statistic (t)\n",
        "t_stat = (sample_mean - theoretical_mean) / (sigma / np.sqrt(n))"
      ],
      "metadata": {
        "id": "L7_NRtZgfE9z"
      },
      "execution_count": 10,
      "outputs": []
    },
    {
      "cell_type": "code",
      "source": [
        "# Determine the critical value from the Z-distribution table\n",
        "critical_value = stats.norm.ppf(1 - alpha)"
      ],
      "metadata": {
        "id": "jl3U1ECffHzF"
      },
      "execution_count": 11,
      "outputs": []
    },
    {
      "cell_type": "code",
      "source": [
        "# Output results\n",
        "print(f\"Test Statistic (t): {t_stat}\")\n",
        "print(f\"Critical Value: {critical_value}\")"
      ],
      "metadata": {
        "colab": {
          "base_uri": "https://localhost:8080/"
        },
        "id": "1tO1796FfKkO",
        "outputId": "bc2bae22-d29e-46eb-b019-e7bfbdc5282a"
      },
      "execution_count": 12,
      "outputs": [
        {
          "output_type": "stream",
          "name": "stdout",
          "text": [
            "Test Statistic (t): -38.0\n",
            "Critical Value: 1.6448536269514722\n"
          ]
        }
      ]
    },
    {
      "cell_type": "code",
      "source": [
        "# Decision\n",
        "if t_stat > critical_value:\n",
        "    print(\"Reject the null hypothesis: There is strong evidence to support the restaurant owners' claim that the weekly operating costs are higher.\")\n",
        "else:\n",
        "    print(\"Fail to reject the null hypothesis: There is no strong evidence to support the restaurant owners' claim that the weekly operating costs are higher.\")"
      ],
      "metadata": {
        "colab": {
          "base_uri": "https://localhost:8080/"
        },
        "id": "b82IM8_ZfU5m",
        "outputId": "8a85c471-4d75-48a9-84c8-bcd7adeeffbb"
      },
      "execution_count": 13,
      "outputs": [
        {
          "output_type": "stream",
          "name": "stdout",
          "text": [
            "Fail to reject the null hypothesis: There is no strong evidence to support the restaurant owners' claim that the weekly operating costs are higher.\n"
          ]
        }
      ]
    },
    {
      "cell_type": "code",
      "source": [],
      "metadata": {
        "id": "ORkdxPtKfXiL"
      },
      "execution_count": null,
      "outputs": []
    }
  ]
}