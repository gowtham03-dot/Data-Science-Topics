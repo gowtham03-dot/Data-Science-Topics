{
  "nbformat": 4,
  "nbformat_minor": 0,
  "metadata": {
    "colab": {
      "provenance": []
    },
    "kernelspec": {
      "name": "python3",
      "display_name": "Python 3"
    },
    "language_info": {
      "name": "python"
    }
  },
  "cells": [
    {
      "cell_type": "code",
      "execution_count": null,
      "metadata": {
        "id": "NtYGxdtl4j_w"
      },
      "outputs": [],
      "source": [
        "import numpy as np\n",
        "import scipy.stats as stats"
      ]
    },
    {
      "cell_type": "code",
      "source": [
        "# Given data\n",
        "data = [1.13, 1.55, 1.43, 0.92, 1.25, 1.36, 1.32, 0.85, 1.07, 1.48, 1.20, 1.33, 1.18, 1.22, 1.29]"
      ],
      "metadata": {
        "id": "XCSdfbLQ_8uT"
      },
      "execution_count": null,
      "outputs": []
    },
    {
      "cell_type": "code",
      "source": [
        "# Calculate the sample mean and sample standard deviation\n",
        "sample_mean = np.mean(data)\n",
        "sample_std = np.std(data, ddof=1)\n",
        "n = len(data)"
      ],
      "metadata": {
        "id": "uCgS9ZUU_-pn"
      },
      "execution_count": null,
      "outputs": []
    },
    {
      "cell_type": "code",
      "source": [
        "# Task a: 99% Confidence Interval using t-distribution\n",
        "confidence_level = 0.99\n",
        "alpha = 1 - confidence_level\n",
        "t_critical = stats.t.ppf(1 - alpha/2, df=n-1)\n",
        "margin_of_error_t = t_critical * (sample_std / np.sqrt(n))\n",
        "confidence_interval_t = (sample_mean - margin_of_error_t, sample_mean + margin_of_error_t)"
      ],
      "metadata": {
        "id": "HaaOF8iZABQ4"
      },
      "execution_count": null,
      "outputs": []
    },
    {
      "cell_type": "code",
      "source": [
        "\n",
        "# Task b: 99% Confidence Interval using known population standard deviation (Z-distribution)\n",
        "population_std = 0.2\n",
        "z_critical = stats.norm.ppf(1 - alpha/2)\n",
        "margin_of_error_z = z_critical * (population_std / np.sqrt(n))\n",
        "confidence_interval_z = (sample_mean - margin_of_error_z, sample_mean + margin_of_error_z)"
      ],
      "metadata": {
        "id": "b1mfdHRpAEda"
      },
      "execution_count": null,
      "outputs": []
    },
    {
      "cell_type": "code",
      "source": [
        "print(f\"Sample Mean: {sample_mean:.2f}\")\n",
        "print(f\"Sample Standard Deviation: {sample_std:.2f}\")\n",
        "print(f\"99% Confidence Interval using t-distribution: {confidence_interval_t}\")\n",
        "print(f\"99% Confidence Interval using known population standard deviation: {confidence_interval_z}\")"
      ],
      "metadata": {
        "colab": {
          "base_uri": "https://localhost:8080/"
        },
        "id": "txE_TGciAIlS",
        "outputId": "26051e07-b790-4bab-e2ca-01b2a693ea6a"
      },
      "execution_count": null,
      "outputs": [
        {
          "output_type": "stream",
          "name": "stdout",
          "text": [
            "Sample Mean: 1.24\n",
            "Sample Standard Deviation: 0.19\n",
            "99% Confidence Interval using t-distribution: (1.0901973384384906, 1.3871359948948425)\n",
            "99% Confidence Interval using known population standard deviation: (1.1056514133957607, 1.3716819199375725)\n"
          ]
        }
      ]
    },
    {
      "cell_type": "markdown",
      "source": [
        "**NO questions asked**"
      ],
      "metadata": {
        "id": "f_UKrG4RKoLS"
      }
    },
    {
      "cell_type": "code",
      "source": [],
      "metadata": {
        "id": "X7lvEb8zAMcN"
      },
      "execution_count": null,
      "outputs": []
    }
  ]
}